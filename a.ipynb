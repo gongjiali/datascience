{
 "cells": [
  {
   "cell_type": "code",
   "execution_count": 2,
   "metadata": {},
   "outputs": [
    {
     "name": "stderr",
     "output_type": "stream",
     "text": [
      "[Stage 0:=============================>                             (1 + 1) / 2]\r"
     ]
    },
    {
     "name": "stdout",
     "output_type": "stream",
     "text": [
      "[('world', 1), ('python', 1), ('hello', 1), ('spark', 1)]\n"
     ]
    },
    {
     "name": "stderr",
     "output_type": "stream",
     "text": [
      "                                                                                \r"
     ]
    }
   ],
   "source": [
    "from pyspark import SparkConf, SparkContext\n",
    "\n",
    "# conf = SparkConf().setMaster(\"local[*]\").setAppName(\"WordCountHelloWorld\")\n",
    "# sc = SparkContext(conf=conf)\n",
    "sc = SparkContext.getOrCreate()\n",
    "\n",
    "file_rdd = sc.textFile(\"/home/gjl/datascience/a.txt\")\n",
    "\n",
    "words_rdd= file_rdd.flatMap(lambda line:line.split(\" \"))\n",
    "\n",
    "words_with_one_rdd= words_rdd.map(lambda x:(x,1))\n",
    "\n",
    "result_rdd= words_with_one_rdd.reduceByKey(lambda a,b:a+b)\n",
    "\n",
    "print(result_rdd.collect())\n",
    "\n"
   ]
  }
 ],
 "metadata": {
  "kernelspec": {
   "display_name": "spark",
   "language": "python",
   "name": "python3"
  },
  "language_info": {
   "codemirror_mode": {
    "name": "ipython",
    "version": 3
   },
   "file_extension": ".py",
   "mimetype": "text/x-python",
   "name": "python",
   "nbconvert_exporter": "python",
   "pygments_lexer": "ipython3",
   "version": "3.9.12"
  },
  "orig_nbformat": 4
 },
 "nbformat": 4,
 "nbformat_minor": 2
}
